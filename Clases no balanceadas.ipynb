{
  "nbformat": 4,
  "nbformat_minor": 0,
  "metadata": {
    "colab": {
      "provenance": [],
      "authorship_tag": "ABX9TyM44k/k7lavwaDujykdNZjP",
      "include_colab_link": true
    },
    "kernelspec": {
      "name": "python3",
      "display_name": "Python 3"
    },
    "language_info": {
      "name": "python"
    }
  },
  "cells": [
    {
      "cell_type": "markdown",
      "metadata": {
        "id": "view-in-github",
        "colab_type": "text"
      },
      "source": [
        "<a href=\"https://colab.research.google.com/github/Fr3d1gg/Inteligencia-Artificial/blob/main/Clases%20no%20balanceadas.ipynb\" target=\"_parent\"><img src=\"https://colab.research.google.com/assets/colab-badge.svg\" alt=\"Open In Colab\"/></a>"
      ]
    },
    {
      "cell_type": "code",
      "execution_count": null,
      "metadata": {
        "id": "3q0uokzSm9Kc"
      },
      "outputs": [],
      "source": []
    },
    {
      "cell_type": "markdown",
      "source": [
        "**Caso practico de clases no balanceadas**\n",
        "Podria ser en un hospital en donde se busque desarrollar un modelo para poder detectar una enfermedad nueva apartir de algunos datos de los pacientes como la edad,presion,glucosa,etc.\n",
        "Seria en base a una poblacion de unos 10,000\n",
        "los pacientes con la enfermedad 100\n",
        "pacientes sanos 9,900\n",
        "\n",
        "Con ello podemos ver el desiquilibrio en los datos que se tienen,ademas esto genera un problema porque la forma en medir los pacientes enfermos y los sanos no estan maracados por un modelo confiable.\n",
        "\n",
        "**Casos de uso comentados en clase**\n",
        "Fraude bancario\n",
        "Detección de spam\n",
        "\n",
        "**Conceptos desarrollados**\n",
        "¿Matriz de confusion?\n",
        "Basicamente es una herramienta que nos permite evaluar el desempeño de los modelos de clasificacion de aprendizaje.\n",
        "Es una tabla que resume las predicciones de un modelo y lo compara con los valores reales,esto nos ayuda a saber cuantas veces el modelo acerto o se equivoco,con ello podemos diferenciar errores.\n",
        "\n",
        "Lo principal que observamos son la exactitud,precision,sensibilidad,f1-score,especificidad,sensibilidad o recall.\n",
        "\n",
        "f1:medida entre la precision y la sensibilidad\n",
        "\n",
        "\n",
        "sensibilidad o recall:porcentaje de los casos  realmente positivos fueron correctamente detectados.\n",
        "\n",
        "El uso de metricas es porque aveces la exactitud puede ser engañosa,como lo detallamos en el caso de uso.\n",
        "\n",
        "\n",
        "Tambien podemos encontrar las metricas incondicionales que representan las posibilidades de que una clase en especifico ocurra o no ocurra de acuerdo con el modelo.\n",
        "\n",
        "La precision es una metrica incindicional y el valos previsto negativo.\n",
        "\n",
        "El valor previsto negativo intentan responder si una instancia elegida no pertenezca a cierta clase.\n",
        "\n",
        "Como podemos complementar a nuestro caso de uso,el comprneder la matriz de confusion y sus metricas es clave para evaluar los modelos de clasificacion,en especuial cuando trabajamos con clases no balancedas.\n",
        "\n",
        "\n",
        "Formulas de las metricas:\n",
        "Precision:\n",
        "\n",
        "![Captura desde 2025-05-26 12-13-34.png](data:image/png;base64,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)\n",
        "\n",
        "\n",
        "\n",
        "Exahustividad:\n",
        "\n",
        "\n",
        "![Captura desde 2025-05-26 12-14-50.png](data:image/png;base64,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)\n",
        "\n",
        "\n",
        "\n",
        "\n",
        "\n",
        "\n",
        "Especificidad:\n",
        "\n",
        "\n",
        "![Captura desde 2025-05-26 12-15-42.png](data:image/png;base64,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)\n",
        "\n",
        "\n",
        "\n",
        "Referencias,en donde saque informacion adicional\n",
        "\n",
        "https://www.datacamp.com/es/tutorial/what-is-a-confusion-matrix-in-machine-learning\n",
        "\n",
        "https://www.ibm.com/mx-es/think/topics/confusion-matrix"
      ],
      "metadata": {
        "id": "MrpDVWiwm98l"
      }
    },
    {
      "cell_type": "code",
      "source": [],
      "metadata": {
        "id": "SEC97BXSnXBQ"
      },
      "execution_count": null,
      "outputs": []
    },
    {
      "cell_type": "markdown",
      "source": [
        "**Ejercicio de Spam**\n",
        "\n",
        "Datos\n",
        "Spam (predicho)=TP=412    Ham=FP=256\n",
        "Ham(predicho)=FN=17    TN=2137\n",
        "\n",
        "Resultados:\n",
        "\n",
        "\n",
        "Precision:61.68%\n",
        "\n",
        "Exahutividad:96.04%\n",
        "\n",
        "\n",
        "Especifidad:89.29%"
      ],
      "metadata": {
        "id": "KASo4QdZybzQ"
      }
    }
  ]
}