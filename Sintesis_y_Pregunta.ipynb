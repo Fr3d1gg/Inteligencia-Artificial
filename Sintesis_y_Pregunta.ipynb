{
  "nbformat": 4,
  "nbformat_minor": 0,
  "metadata": {
    "colab": {
      "provenance": [],
      "authorship_tag": "ABX9TyOyJTU8teXLq44cUFILxTKM",
      "include_colab_link": true
    },
    "kernelspec": {
      "name": "python3",
      "display_name": "Python 3"
    },
    "language_info": {
      "name": "python"
    }
  },
  "cells": [
    {
      "cell_type": "markdown",
      "metadata": {
        "id": "view-in-github",
        "colab_type": "text"
      },
      "source": [
        "<a href=\"https://colab.research.google.com/github/Fr3d1gg/Inteligencia-Artificial/blob/main/Sintesis_y_Pregunta.ipynb\" target=\"_parent\"><img src=\"https://colab.research.google.com/assets/colab-badge.svg\" alt=\"Open In Colab\"/></a>"
      ]
    },
    {
      "cell_type": "code",
      "execution_count": null,
      "metadata": {
        "id": "SWZ6vhjzs88u"
      },
      "outputs": [],
      "source": []
    },
    {
      "cell_type": "markdown",
      "source": [
        "**Ramirez Aguirre Jose Alfredo**\n",
        "Semillero de Inteligencia Artificial\n",
        "\n",
        "La inteligencia artificial es una rama de la informatica que nos permite automatizar y realizar tareas que normalmente requieren de la inteligencia de los seres humanos,como aprender,razonar,resolver problemas especificos,etc.\n",
        "\n",
        "El machine Learning es lo que permite que las maquinas aprendan automaticamente a partir de datos y no ser programados de alguna forma.\n",
        "Los tipos que vimos fueron:\n",
        "Aprendizaje supervidado,lo recuerdo como aquellos algoritmos que son comunes.\n",
        "Aprendizaje no supervisado\n",
        "Aprendizaje por refuerzo:Que es donde se aprende mediante ensayo y error.\n",
        "\n",
        "Los modelos mas comunes que recuerdo,son las redes neuronales,las redes recurrentes (audio),las redes cneuronales convolucionales(las vemos en el procesamiento de imagenes)\n",
        "\n",
        "**Qué tipo de aprendizaje sería ideal para predecir la deserción estudiantil en una universidad? ¿Por qué?**\n",
        "\n",
        "R.Creo que el aprendizaje que ayudaria mucho a que la desercion sea menor seria la practica,porque me ha pasado que muchas veces uno como estudiante perder la motivacion al no poner en practica lo que se esta llevando a lo largo de las clases, asi mismo sucede que uno como estudiante piensa que muchos de los temas,son irrelevantes para su formacion academica y no se enfoncan en el rubro al cual el estudiante busca formarse."
      ],
      "metadata": {
        "id": "vfKxNkVwtyoK"
      }
    },
    {
      "cell_type": "code",
      "source": [],
      "metadata": {
        "id": "8KM20VzFu8dl"
      },
      "execution_count": null,
      "outputs": []
    }
  ]
}